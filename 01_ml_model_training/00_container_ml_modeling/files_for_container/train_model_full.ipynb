{
 "cells": [
  {
   "cell_type": "code",
   "execution_count": 1,
   "id": "d2596bf8-00bf-4543-b5ec-d04fe44074b5",
   "metadata": {},
   "outputs": [],
   "source": [
    "from sqlalchemy import create_engine\n",
    "import pandas as pd\n",
    "from sklearn.ensemble import RandomForestRegressor\n",
    "from sklearn.metrics import mean_squared_error\n",
    "import pickle"
   ]
  },
  {
   "cell_type": "code",
   "execution_count": null,
   "id": "1ddd525d-5da2-431b-809a-e18ef4ed4ab6",
   "metadata": {},
   "outputs": [],
   "source": [
    "user = \"erpnext_sql\"\n",
    "password = \"\"\n",
    "db = \"\"\n",
    "host = \"\"\n",
    "port = \"3333\""
   ]
  },
  {
   "cell_type": "code",
   "execution_count": 3,
   "id": "79af7632-d883-447b-93ed-090a778ecac4",
   "metadata": {},
   "outputs": [],
   "source": [
    "engine = create_engine(f\"mysql+pymysql://{user}:{password}@{host}:{port}/{db}\")"
   ]
  },
  {
   "cell_type": "code",
   "execution_count": 4,
   "id": "bdd00e03-e952-480b-b881-07a2c6d9c6fe",
   "metadata": {},
   "outputs": [],
   "source": [
    "\n",
    "purchase_orders = pd.read_sql(\"\"\"\n",
    "    Select name, \n",
    "            supplier, \n",
    "            schedule_date,                 \n",
    "            total_qty, \n",
    "            transaction_date, \n",
    "            set_warehouse\n",
    "    FROM `tabPurchase Order`\n",
    "    \"\"\", engine)\n",
    "\n"
   ]
  },
  {
   "cell_type": "code",
   "execution_count": 5,
   "id": "4fbc4ea8-0bff-477c-b128-949df358c093",
   "metadata": {},
   "outputs": [
    {
     "data": {
      "text/plain": [
       "(17181, 6)"
      ]
     },
     "execution_count": 5,
     "metadata": {},
     "output_type": "execute_result"
    }
   ],
   "source": [
    "purchase_orders.shape"
   ]
  },
  {
   "cell_type": "markdown",
   "id": "ff633fa1-16e5-484b-86a6-26556d0c501f",
   "metadata": {},
   "source": [
    "### Dateset"
   ]
  },
  {
   "cell_type": "code",
   "execution_count": 6,
   "id": "ff335cbf-3bc4-4a91-bf3c-1709951d78ff",
   "metadata": {},
   "outputs": [],
   "source": [
    "data_sql_full = pd.read_sql(\"\"\"\n",
    "     Select \n",
    "        po.name, \n",
    "        po.supplier,            \n",
    "        po.total_qty, \n",
    "        po.transaction_date, \n",
    "        po.set_warehouse,\n",
    "        po_items.item_name, \n",
    "        po_items.schedule_date,\n",
    "        po_items.rate,         \n",
    "        po_items.qty as quantity_ordered, \n",
    "        po_items.warehouse,\n",
    "        po_receipt_item.parent as receipt_item_parent,\n",
    "        po_receipt.posting_date as delivered_date\n",
    "FROM `tabPurchase Order` po\n",
    "LEFT JOIN `tabPurchase Order Item` po_items  \n",
    "\tON po.name = po_items.parent\n",
    "LEFT JOIN `tabPurchase Receipt Item` po_receipt_item\n",
    "\tON po.name = po_receipt_item.purchase_order\n",
    "LEFT JOIN `tabPurchase Receipt` po_receipt\n",
    "\tON po_receipt_item.parent =  po_receipt.name \n",
    ";\n",
    "\"\"\",\n",
    "engine)"
   ]
  },
  {
   "cell_type": "code",
   "execution_count": 7,
   "id": "e53001b6-e34c-4618-8f86-42083f7c60c5",
   "metadata": {},
   "outputs": [
    {
     "data": {
      "text/html": [
       "<div>\n",
       "<style scoped>\n",
       "    .dataframe tbody tr th:only-of-type {\n",
       "        vertical-align: middle;\n",
       "    }\n",
       "\n",
       "    .dataframe tbody tr th {\n",
       "        vertical-align: top;\n",
       "    }\n",
       "\n",
       "    .dataframe thead th {\n",
       "        text-align: right;\n",
       "    }\n",
       "</style>\n",
       "<table border=\"1\" class=\"dataframe\">\n",
       "  <thead>\n",
       "    <tr style=\"text-align: right;\">\n",
       "      <th></th>\n",
       "      <th>name</th>\n",
       "      <th>supplier</th>\n",
       "      <th>total_qty</th>\n",
       "      <th>transaction_date</th>\n",
       "      <th>set_warehouse</th>\n",
       "      <th>item_name</th>\n",
       "      <th>schedule_date</th>\n",
       "      <th>rate</th>\n",
       "      <th>quantity_ordered</th>\n",
       "      <th>warehouse</th>\n",
       "      <th>receipt_item_parent</th>\n",
       "      <th>delivered_date</th>\n",
       "    </tr>\n",
       "  </thead>\n",
       "  <tbody>\n",
       "    <tr>\n",
       "      <th>0</th>\n",
       "      <td>PUR-ORD-2024-08-00001</td>\n",
       "      <td>Beans Inc.</td>\n",
       "      <td>750.0</td>\n",
       "      <td>2020-06-14</td>\n",
       "      <td>Naples - RR</td>\n",
       "      <td>Excelsa</td>\n",
       "      <td>2020-06-25</td>\n",
       "      <td>30.0</td>\n",
       "      <td>750.0</td>\n",
       "      <td>Naples - RR</td>\n",
       "      <td>MAT-PRE-2024-00001</td>\n",
       "      <td>2020-06-25</td>\n",
       "    </tr>\n",
       "    <tr>\n",
       "      <th>1</th>\n",
       "      <td>PUR-ORD-2024-08-00002</td>\n",
       "      <td>Beans Inc.</td>\n",
       "      <td>750.0</td>\n",
       "      <td>2023-04-24</td>\n",
       "      <td>Naples - RR</td>\n",
       "      <td>Excelsa</td>\n",
       "      <td>2023-04-29</td>\n",
       "      <td>30.0</td>\n",
       "      <td>750.0</td>\n",
       "      <td>Naples - RR</td>\n",
       "      <td>MAT-PRE-2024-00002</td>\n",
       "      <td>2023-05-04</td>\n",
       "    </tr>\n",
       "    <tr>\n",
       "      <th>2</th>\n",
       "      <td>PUR-ORD-2024-08-00003</td>\n",
       "      <td>Fair Trade AG</td>\n",
       "      <td>750.0</td>\n",
       "      <td>2024-09-08</td>\n",
       "      <td>Nairobi - RR</td>\n",
       "      <td>Arabica</td>\n",
       "      <td>2024-09-21</td>\n",
       "      <td>24.0</td>\n",
       "      <td>750.0</td>\n",
       "      <td>Nairobi - RR</td>\n",
       "      <td>None</td>\n",
       "      <td>None</td>\n",
       "    </tr>\n",
       "    <tr>\n",
       "      <th>3</th>\n",
       "      <td>PUR-ORD-2024-08-00004</td>\n",
       "      <td>Aromatico</td>\n",
       "      <td>1000.0</td>\n",
       "      <td>2022-10-26</td>\n",
       "      <td>Amsterdam - RR</td>\n",
       "      <td>Maragogype</td>\n",
       "      <td>2022-11-10</td>\n",
       "      <td>40.0</td>\n",
       "      <td>1000.0</td>\n",
       "      <td>Amsterdam - RR</td>\n",
       "      <td>MAT-PRE-2024-00003</td>\n",
       "      <td>2022-11-29</td>\n",
       "    </tr>\n",
       "    <tr>\n",
       "      <th>4</th>\n",
       "      <td>PUR-ORD-2024-08-00005</td>\n",
       "      <td>Aromatico</td>\n",
       "      <td>500.0</td>\n",
       "      <td>2022-03-18</td>\n",
       "      <td>London - RR</td>\n",
       "      <td>Maragogype Type B</td>\n",
       "      <td>2022-04-05</td>\n",
       "      <td>45.0</td>\n",
       "      <td>500.0</td>\n",
       "      <td>London - RR</td>\n",
       "      <td>MAT-PRE-2024-00004</td>\n",
       "      <td>2022-04-24</td>\n",
       "    </tr>\n",
       "  </tbody>\n",
       "</table>\n",
       "</div>"
      ],
      "text/plain": [
       "                    name       supplier  total_qty transaction_date  \\\n",
       "0  PUR-ORD-2024-08-00001     Beans Inc.      750.0       2020-06-14   \n",
       "1  PUR-ORD-2024-08-00002     Beans Inc.      750.0       2023-04-24   \n",
       "2  PUR-ORD-2024-08-00003  Fair Trade AG      750.0       2024-09-08   \n",
       "3  PUR-ORD-2024-08-00004      Aromatico     1000.0       2022-10-26   \n",
       "4  PUR-ORD-2024-08-00005      Aromatico      500.0       2022-03-18   \n",
       "\n",
       "    set_warehouse          item_name schedule_date  rate  quantity_ordered  \\\n",
       "0     Naples - RR            Excelsa    2020-06-25  30.0             750.0   \n",
       "1     Naples - RR            Excelsa    2023-04-29  30.0             750.0   \n",
       "2    Nairobi - RR            Arabica    2024-09-21  24.0             750.0   \n",
       "3  Amsterdam - RR         Maragogype    2022-11-10  40.0            1000.0   \n",
       "4     London - RR  Maragogype Type B    2022-04-05  45.0             500.0   \n",
       "\n",
       "        warehouse receipt_item_parent delivered_date  \n",
       "0     Naples - RR  MAT-PRE-2024-00001     2020-06-25  \n",
       "1     Naples - RR  MAT-PRE-2024-00002     2023-05-04  \n",
       "2    Nairobi - RR                None           None  \n",
       "3  Amsterdam - RR  MAT-PRE-2024-00003     2022-11-29  \n",
       "4     London - RR  MAT-PRE-2024-00004     2022-04-24  "
      ]
     },
     "execution_count": 7,
     "metadata": {},
     "output_type": "execute_result"
    }
   ],
   "source": [
    "data_sql_full.head()"
   ]
  },
  {
   "cell_type": "code",
   "execution_count": 8,
   "id": "f6357034-6937-47e9-9b6a-a9253e16cc5f",
   "metadata": {},
   "outputs": [
    {
     "data": {
      "text/plain": [
       "(17181, 12)"
      ]
     },
     "execution_count": 8,
     "metadata": {},
     "output_type": "execute_result"
    }
   ],
   "source": [
    "# Get size of dataset\n",
    "data_sql_full.shape\n"
   ]
  },
  {
   "cell_type": "code",
   "execution_count": 9,
   "id": "27102a88-7e9f-4b6c-acdd-abd15f3640c6",
   "metadata": {},
   "outputs": [
    {
     "data": {
      "text/plain": [
       "name                    object\n",
       "supplier                object\n",
       "total_qty              float64\n",
       "transaction_date        object\n",
       "set_warehouse           object\n",
       "item_name               object\n",
       "schedule_date           object\n",
       "rate                   float64\n",
       "quantity_ordered       float64\n",
       "warehouse               object\n",
       "receipt_item_parent     object\n",
       "delivered_date          object\n",
       "dtype: object"
      ]
     },
     "execution_count": 9,
     "metadata": {},
     "output_type": "execute_result"
    }
   ],
   "source": [
    "# Check datatypes\n",
    "data_sql_full.dtypes\n"
   ]
  },
  {
   "cell_type": "code",
   "execution_count": 10,
   "id": "e1d4f834-b763-48dc-9f2a-ff81b4f8d2b3",
   "metadata": {},
   "outputs": [],
   "source": [
    "# Drop nulls\n",
    "data_sql_full.dropna(inplace=True, subset=[\"delivered_date\", \"schedule_date\"])"
   ]
  },
  {
   "cell_type": "code",
   "execution_count": 11,
   "id": "244b3d17-31aa-4425-8e76-039497b05e94",
   "metadata": {},
   "outputs": [],
   "source": [
    "# Convert timestamps\n",
    "data_sql_full[\"delivered_date\"] = pd.to_datetime(data_sql_full[\"delivered_date\"])\n",
    "data_sql_full[\"schedule_date\"] = pd.to_datetime(data_sql_full[\"schedule_date\"])"
   ]
  },
  {
   "cell_type": "code",
   "execution_count": 12,
   "id": "f91db1f1-8469-4e06-8547-5eba26cd3549",
   "metadata": {},
   "outputs": [],
   "source": [
    "\n",
    "# Calculate days late\n",
    "data_sql_full[\"days_late\"] = (data_sql_full[\"delivered_date\"] - data_sql_full[\"schedule_date\"]).dt.days\n"
   ]
  },
  {
   "cell_type": "code",
   "execution_count": 13,
   "id": "188873ec-4e36-4502-8cf1-7444a1f94c32",
   "metadata": {},
   "outputs": [
    {
     "data": {
      "text/plain": [
       "np.float64(10.406653394130114)"
      ]
     },
     "execution_count": 13,
     "metadata": {},
     "output_type": "execute_result"
    }
   ],
   "source": [
    "\n",
    "# Get average numbers of days late\n",
    "data_sql_full[\"days_late\"].mean()\n"
   ]
  },
  {
   "cell_type": "code",
   "execution_count": 14,
   "id": "63a5b113-c217-4448-9e88-82bc4009da96",
   "metadata": {},
   "outputs": [],
   "source": [
    "\n",
    "\n",
    "# Check days late by supplier\n",
    "data_sql_full.groupby('supplier')[\"days_late\"].mean().sort_values(ascending=False)\n"
   ]
  },
  {
   "cell_type": "code",
   "execution_count": null,
   "id": "18ef0e6e-9534-4afd-98af-cb3e85b232f7",
   "metadata": {},
   "outputs": [],
   "source": [
    "\n",
    "# Create Dummies for Supplier\n",
    "d_suppliers = pd.get_dummies(data_sql_full['supplier'], prefix=\"d\")\n"
   ]
  },
  {
   "cell_type": "code",
   "execution_count": null,
   "id": "85f5ad8f-5653-4d80-8d2b-42f021c267f7",
   "metadata": {},
   "outputs": [],
   "source": [
    "\n",
    "# Add dummies to dataset\n",
    "data_for_model = pd.concat([data_sql_full, d_suppliers], axis=1)\n"
   ]
  },
  {
   "cell_type": "code",
   "execution_count": null,
   "id": "9575d786-4fb2-4f43-97b0-4d61d6323b46",
   "metadata": {},
   "outputs": [],
   "source": [
    "\n",
    "# Create feature list\n",
    "features = [\"quantity_ordered\"] + list(d_suppliers.columns)\n"
   ]
  },
  {
   "cell_type": "code",
   "execution_count": null,
   "id": "a5b7742c-2570-475a-acea-2188ca09437f",
   "metadata": {},
   "outputs": [],
   "source": [
    "\n",
    "# Init Random Forest\n",
    "rf = RandomForestRegressor(n_estimators=1000, random_state=1234)\n"
   ]
  },
  {
   "cell_type": "code",
   "execution_count": null,
   "id": "d6d0a304-9637-4160-a4b6-68db276fab6a",
   "metadata": {},
   "outputs": [],
   "source": [
    "\n",
    "# Train model\n",
    "rf.fit(data_for_model[features], data_for_model[\"days_late\"])\n"
   ]
  },
  {
   "cell_type": "code",
   "execution_count": null,
   "id": "a88a85ce-896b-400a-b5c2-5ea268247b30",
   "metadata": {},
   "outputs": [],
   "source": [
    "\n",
    "# Predict\n",
    "predictions = rf.predict(data_for_model[features])\n"
   ]
  },
  {
   "cell_type": "code",
   "execution_count": null,
   "id": "15493c93-15c3-4b61-bce9-a9296cf47ca2",
   "metadata": {},
   "outputs": [],
   "source": [
    "\n",
    "# Get mean squared error\n",
    "mean_squared_error(data_for_model[\"days_late\"], predictions)\n"
   ]
  },
  {
   "cell_type": "code",
   "execution_count": null,
   "id": "64b03ba6-6683-4864-886b-792c0fb60900",
   "metadata": {},
   "outputs": [],
   "source": [
    "\n",
    "# Export model\n",
    "export_name =\"gbm_500.pkl\"\n",
    "with open(export_name, \"wb\") as file:\n",
    "    pickle.dump(rf, file)\n"
   ]
  }
 ],
 "metadata": {
  "kernelspec": {
   "display_name": "Python 3 (ipykernel)",
   "language": "python",
   "name": "python3"
  },
  "language_info": {
   "codemirror_mode": {
    "name": "ipython",
    "version": 3
   },
   "file_extension": ".py",
   "mimetype": "text/x-python",
   "name": "python",
   "nbconvert_exporter": "python",
   "pygments_lexer": "ipython3",
   "version": "3.11.10"
  }
 },
 "nbformat": 4,
 "nbformat_minor": 5
}
