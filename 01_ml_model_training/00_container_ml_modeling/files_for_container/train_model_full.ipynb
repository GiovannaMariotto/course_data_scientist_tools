{
 "cells": [
  {
   "cell_type": "code",
   "execution_count": null,
   "id": "d2596bf8-00bf-4543-b5ec-d04fe44074b5",
   "metadata": {},
   "outputs": [],
   "source": [
    "from sqlalchemy import create_engine\n",
    "import pandas as pd\n",
    "from sklearn.ensemble import RandomForestRegressor, RandomForestClassifier, GradientBoostingRegressor\n",
    "from sklearn.metrics import (\n",
    "    mean_squared_error, mean_absolute_error, confusion_matrix, accuracy_score\n",
    ")\n",
    "import pickle\n",
    "import datetime\n",
    "import numpy as np\n"
   ]
  },
  {
   "cell_type": "code",
   "execution_count": null,
   "id": "1ddd525d-5da2-431b-809a-e18ef4ed4ab6",
   "metadata": {},
   "outputs": [],
   "source": [
    "user = \"erpnext_sql\"\n",
    "password = \"rtp[ps4XRF0_pX\"\n",
    "db = \"_abde597b15b69fc8\"\n",
    "host = \"erpnext.responsible-ai.net\"\n",
    "port = \"3333\""
   ]
  },
  {
   "cell_type": "code",
   "execution_count": 3,
   "id": "79af7632-d883-447b-93ed-090a778ecac4",
   "metadata": {},
   "outputs": [],
   "source": [
    "engine = create_engine(f\"mysql+pymysql://{user}:{password}@{host}:{port}/{db}\")"
   ]
  },
  {
   "cell_type": "markdown",
   "id": "ff633fa1-16e5-484b-86a6-26556d0c501f",
   "metadata": {},
   "source": [
    "### Dateset"
   ]
  },
  {
   "cell_type": "code",
   "execution_count": null,
   "id": "ff335cbf-3bc4-4a91-bf3c-1709951d78ff",
   "metadata": {},
   "outputs": [],
   "source": [
    "data_sql_full = pd.read_sql(\"\"\"\n",
    "    Select \t\t\n",
    "\tpo.name, \n",
    "        po.supplier, \n",
    "        po.total_qty,\n",
    "        po.transaction_date as order_date,\n",
    "        po_items.schedule_date,\n",
    "        po_receipt.posting_date as delivered_date\n",
    "    FROM `tabPurchase Order` po\n",
    "    LEFT JOIN `tabPurchase Order Item` po_items\n",
    "    \ton po.name = po_items.parent\n",
    "    LEFT JOIN `tabPurchase Receipt Item` po_receipt_item\n",
    "    \ton po.name = po_receipt_item.purchase_order \n",
    "    LEFT JOIN `tabPurchase Receipt` po_receipt\n",
    "    \ton po_receipt_item.parent = po_receipt.name\n",
    "    \"\"\", engine)"
   ]
  },
  {
   "cell_type": "code",
   "execution_count": 7,
   "id": "e53001b6-e34c-4618-8f86-42083f7c60c5",
   "metadata": {},
   "outputs": [
    {
     "data": {
      "text/html": [
       "<div>\n",
       "<style scoped>\n",
       "    .dataframe tbody tr th:only-of-type {\n",
       "        vertical-align: middle;\n",
       "    }\n",
       "\n",
       "    .dataframe tbody tr th {\n",
       "        vertical-align: top;\n",
       "    }\n",
       "\n",
       "    .dataframe thead th {\n",
       "        text-align: right;\n",
       "    }\n",
       "</style>\n",
       "<table border=\"1\" class=\"dataframe\">\n",
       "  <thead>\n",
       "    <tr style=\"text-align: right;\">\n",
       "      <th></th>\n",
       "      <th>name</th>\n",
       "      <th>supplier</th>\n",
       "      <th>total_qty</th>\n",
       "      <th>transaction_date</th>\n",
       "      <th>set_warehouse</th>\n",
       "      <th>item_name</th>\n",
       "      <th>schedule_date</th>\n",
       "      <th>rate</th>\n",
       "      <th>quantity_ordered</th>\n",
       "      <th>warehouse</th>\n",
       "      <th>receipt_item_parent</th>\n",
       "      <th>delivered_date</th>\n",
       "    </tr>\n",
       "  </thead>\n",
       "  <tbody>\n",
       "    <tr>\n",
       "      <th>0</th>\n",
       "      <td>PUR-ORD-2024-08-00001</td>\n",
       "      <td>Beans Inc.</td>\n",
       "      <td>750.0</td>\n",
       "      <td>2020-06-14</td>\n",
       "      <td>Naples - RR</td>\n",
       "      <td>Excelsa</td>\n",
       "      <td>2020-06-25</td>\n",
       "      <td>30.0</td>\n",
       "      <td>750.0</td>\n",
       "      <td>Naples - RR</td>\n",
       "      <td>MAT-PRE-2024-00001</td>\n",
       "      <td>2020-06-25</td>\n",
       "    </tr>\n",
       "    <tr>\n",
       "      <th>1</th>\n",
       "      <td>PUR-ORD-2024-08-00002</td>\n",
       "      <td>Beans Inc.</td>\n",
       "      <td>750.0</td>\n",
       "      <td>2023-04-24</td>\n",
       "      <td>Naples - RR</td>\n",
       "      <td>Excelsa</td>\n",
       "      <td>2023-04-29</td>\n",
       "      <td>30.0</td>\n",
       "      <td>750.0</td>\n",
       "      <td>Naples - RR</td>\n",
       "      <td>MAT-PRE-2024-00002</td>\n",
       "      <td>2023-05-04</td>\n",
       "    </tr>\n",
       "    <tr>\n",
       "      <th>2</th>\n",
       "      <td>PUR-ORD-2024-08-00003</td>\n",
       "      <td>Fair Trade AG</td>\n",
       "      <td>750.0</td>\n",
       "      <td>2024-09-08</td>\n",
       "      <td>Nairobi - RR</td>\n",
       "      <td>Arabica</td>\n",
       "      <td>2024-09-21</td>\n",
       "      <td>24.0</td>\n",
       "      <td>750.0</td>\n",
       "      <td>Nairobi - RR</td>\n",
       "      <td>None</td>\n",
       "      <td>None</td>\n",
       "    </tr>\n",
       "    <tr>\n",
       "      <th>3</th>\n",
       "      <td>PUR-ORD-2024-08-00004</td>\n",
       "      <td>Aromatico</td>\n",
       "      <td>1000.0</td>\n",
       "      <td>2022-10-26</td>\n",
       "      <td>Amsterdam - RR</td>\n",
       "      <td>Maragogype</td>\n",
       "      <td>2022-11-10</td>\n",
       "      <td>40.0</td>\n",
       "      <td>1000.0</td>\n",
       "      <td>Amsterdam - RR</td>\n",
       "      <td>MAT-PRE-2024-00003</td>\n",
       "      <td>2022-11-29</td>\n",
       "    </tr>\n",
       "    <tr>\n",
       "      <th>4</th>\n",
       "      <td>PUR-ORD-2024-08-00005</td>\n",
       "      <td>Aromatico</td>\n",
       "      <td>500.0</td>\n",
       "      <td>2022-03-18</td>\n",
       "      <td>London - RR</td>\n",
       "      <td>Maragogype Type B</td>\n",
       "      <td>2022-04-05</td>\n",
       "      <td>45.0</td>\n",
       "      <td>500.0</td>\n",
       "      <td>London - RR</td>\n",
       "      <td>MAT-PRE-2024-00004</td>\n",
       "      <td>2022-04-24</td>\n",
       "    </tr>\n",
       "  </tbody>\n",
       "</table>\n",
       "</div>"
      ],
      "text/plain": [
       "                    name       supplier  total_qty transaction_date  \\\n",
       "0  PUR-ORD-2024-08-00001     Beans Inc.      750.0       2020-06-14   \n",
       "1  PUR-ORD-2024-08-00002     Beans Inc.      750.0       2023-04-24   \n",
       "2  PUR-ORD-2024-08-00003  Fair Trade AG      750.0       2024-09-08   \n",
       "3  PUR-ORD-2024-08-00004      Aromatico     1000.0       2022-10-26   \n",
       "4  PUR-ORD-2024-08-00005      Aromatico      500.0       2022-03-18   \n",
       "\n",
       "    set_warehouse          item_name schedule_date  rate  quantity_ordered  \\\n",
       "0     Naples - RR            Excelsa    2020-06-25  30.0             750.0   \n",
       "1     Naples - RR            Excelsa    2023-04-29  30.0             750.0   \n",
       "2    Nairobi - RR            Arabica    2024-09-21  24.0             750.0   \n",
       "3  Amsterdam - RR         Maragogype    2022-11-10  40.0            1000.0   \n",
       "4     London - RR  Maragogype Type B    2022-04-05  45.0             500.0   \n",
       "\n",
       "        warehouse receipt_item_parent delivered_date  \n",
       "0     Naples - RR  MAT-PRE-2024-00001     2020-06-25  \n",
       "1     Naples - RR  MAT-PRE-2024-00002     2023-05-04  \n",
       "2    Nairobi - RR                None           None  \n",
       "3  Amsterdam - RR  MAT-PRE-2024-00003     2022-11-29  \n",
       "4     London - RR  MAT-PRE-2024-00004     2022-04-24  "
      ]
     },
     "execution_count": 7,
     "metadata": {},
     "output_type": "execute_result"
    }
   ],
   "source": [
    "data_sql_full.head()"
   ]
  },
  {
   "cell_type": "code",
   "execution_count": 8,
   "id": "f6357034-6937-47e9-9b6a-a9253e16cc5f",
   "metadata": {},
   "outputs": [
    {
     "data": {
      "text/plain": [
       "(17181, 12)"
      ]
     },
     "execution_count": 8,
     "metadata": {},
     "output_type": "execute_result"
    }
   ],
   "source": [
    "# Get size of dataset\n",
    "data_sql_full.shape\n"
   ]
  },
  {
   "cell_type": "code",
   "execution_count": 9,
   "id": "27102a88-7e9f-4b6c-acdd-abd15f3640c6",
   "metadata": {},
   "outputs": [
    {
     "data": {
      "text/plain": [
       "name                    object\n",
       "supplier                object\n",
       "total_qty              float64\n",
       "transaction_date        object\n",
       "set_warehouse           object\n",
       "item_name               object\n",
       "schedule_date           object\n",
       "rate                   float64\n",
       "quantity_ordered       float64\n",
       "warehouse               object\n",
       "receipt_item_parent     object\n",
       "delivered_date          object\n",
       "dtype: object"
      ]
     },
     "execution_count": 9,
     "metadata": {},
     "output_type": "execute_result"
    }
   ],
   "source": [
    "# Check datatypes\n",
    "data_sql_full.dtypes\n"
   ]
  },
  {
   "cell_type": "code",
   "execution_count": 10,
   "id": "e1d4f834-b763-48dc-9f2a-ff81b4f8d2b3",
   "metadata": {},
   "outputs": [],
   "source": [
    "# Drop nulls\n",
    "data_sql_full.dropna(inplace=True, subset=[\"delivered_date\", \"schedule_date\"])"
   ]
  },
  {
   "cell_type": "code",
   "execution_count": 11,
   "id": "244b3d17-31aa-4425-8e76-039497b05e94",
   "metadata": {},
   "outputs": [],
   "source": [
    "# Convert timestamps\n",
    "data_sql_full[\"delivered_date\"] = pd.to_datetime(data_sql_full[\"delivered_date\"])\n",
    "data_sql_full[\"schedule_date\"] = pd.to_datetime(data_sql_full[\"schedule_date\"])"
   ]
  },
  {
   "cell_type": "markdown",
   "id": "2ffd8dcc",
   "metadata": {},
   "source": [
    "Calculate if purchase order was late"
   ]
  },
  {
   "cell_type": "code",
   "execution_count": null,
   "id": "01a1c00f",
   "metadata": {},
   "outputs": [],
   "source": [
    "data_sql_full[\"late\"] = data_sql_full[\"delivered_date\"] > data_sql_full[\"schedule_date\"]"
   ]
  },
  {
   "cell_type": "markdown",
   "id": "808eab44",
   "metadata": {},
   "source": [
    "\n",
    "Calculate days late"
   ]
  },
  {
   "cell_type": "code",
   "execution_count": null,
   "id": "f91db1f1-8469-4e06-8547-5eba26cd3549",
   "metadata": {},
   "outputs": [],
   "source": [
    "\n",
    "data_sql_full[\"days_late\"] = (data_sql_full[\"delivered_date\"] - data_sql_full[\"schedule_date\"]).dt.days\n"
   ]
  },
  {
   "cell_type": "markdown",
   "id": "56cceadf",
   "metadata": {},
   "source": [
    "Get average numbers of days late"
   ]
  },
  {
   "cell_type": "code",
   "execution_count": null,
   "id": "188873ec-4e36-4502-8cf1-7444a1f94c32",
   "metadata": {},
   "outputs": [
    {
     "data": {
      "text/plain": [
       "np.float64(10.406653394130114)"
      ]
     },
     "execution_count": 13,
     "metadata": {},
     "output_type": "execute_result"
    }
   ],
   "source": [
    "\n",
    "\n",
    "data_sql_full[\"days_late\"].mean()\n"
   ]
  },
  {
   "cell_type": "code",
   "execution_count": 14,
   "id": "63a5b113-c217-4448-9e88-82bc4009da96",
   "metadata": {},
   "outputs": [],
   "source": [
    "\n",
    "\n",
    "# Check days late by supplier\n",
    "data_sql_full.groupby('supplier')[\"days_late\"].mean().sort_values(ascending=False)\n"
   ]
  },
  {
   "cell_type": "code",
   "execution_count": null,
   "id": "18ef0e6e-9534-4afd-98af-cb3e85b232f7",
   "metadata": {},
   "outputs": [],
   "source": [
    "\n",
    "# Create Dummies for Supplier\n",
    "d_suppliers = pd.get_dummies(data_sql_full['supplier'], prefix=\"d\")\n"
   ]
  },
  {
   "cell_type": "code",
   "execution_count": null,
   "id": "85f5ad8f-5653-4d80-8d2b-42f021c267f7",
   "metadata": {},
   "outputs": [],
   "source": [
    "\n",
    "# Add dummies to dataset\n",
    "data_for_model = pd.concat([data_sql_full, d_suppliers], axis=1)\n"
   ]
  },
  {
   "cell_type": "code",
   "execution_count": null,
   "id": "9575d786-4fb2-4f43-97b0-4d61d6323b46",
   "metadata": {},
   "outputs": [],
   "source": [
    "\n",
    "# Create feature list\n",
    "features = [\"total_qty\"] + list(d_suppliers.columns)\n"
   ]
  },
  {
   "cell_type": "markdown",
   "id": "3260eb5d",
   "metadata": {},
   "source": [
    "## Train / Test split"
   ]
  },
  {
   "cell_type": "code",
   "execution_count": null,
   "id": "aaba5f32",
   "metadata": {},
   "outputs": [],
   "source": [
    "data_for_model[\"order_date\"].max()\n",
    "data_for_model[\"order_date\"].min()\n"
   ]
  },
  {
   "cell_type": "code",
   "execution_count": null,
   "id": "dcd13fd7",
   "metadata": {},
   "outputs": [],
   "source": [
    "# Check if first of 1. January 2024 is a good split date\n",
    "data_for_model[data_for_model[\"order_date\"] > datetime.date(2024, 1, 1)].shape[0] / data_for_model.shape[0]\n"
   ]
  },
  {
   "cell_type": "code",
   "execution_count": null,
   "id": "a1cf4440",
   "metadata": {},
   "outputs": [],
   "source": [
    "\n",
    "# Find better split date\n",
    "data_for_model[data_for_model[\"order_date\"] > datetime.date(2023, 3, 1)].shape[0] / data_for_model.shape[0]\n",
    "\n",
    "\n"
   ]
  },
  {
   "cell_type": "code",
   "execution_count": null,
   "id": "a8acb6da",
   "metadata": {},
   "outputs": [],
   "source": [
    "# Define Train dataset \n",
    "train = data_for_model[data_for_model[\"order_date\"] <= datetime.date(2023, 3, 1)]\n"
   ]
  },
  {
   "cell_type": "code",
   "execution_count": null,
   "id": "36873448",
   "metadata": {},
   "outputs": [],
   "source": [
    "# Define Test dataset\n",
    "test = data_for_model[data_for_model[\"order_date\"] > datetime.date(2023, 3, 1)]\n"
   ]
  },
  {
   "cell_type": "markdown",
   "id": "f90bd808",
   "metadata": {},
   "source": [
    "## 1. Classifier Model"
   ]
  },
  {
   "cell_type": "code",
   "execution_count": null,
   "id": "98a1cc08",
   "metadata": {},
   "outputs": [],
   "source": [
    "rf_classifier = RandomForestClassifier(n_estimators=1000, random_state=1234)\n"
   ]
  },
  {
   "cell_type": "code",
   "execution_count": null,
   "id": "1251016d",
   "metadata": {},
   "outputs": [],
   "source": [
    "rf_classifier.fit(train[features], train[\"late\"])"
   ]
  },
  {
   "cell_type": "code",
   "execution_count": null,
   "id": "bc0d889c",
   "metadata": {},
   "outputs": [],
   "source": [
    "predictions = rf_classifier.predict(test[features])"
   ]
  },
  {
   "cell_type": "code",
   "execution_count": null,
   "id": "1fac0761",
   "metadata": {},
   "outputs": [],
   "source": [
    "accuracy = accuracy_score(test[\"late\"], predictions)"
   ]
  },
  {
   "cell_type": "code",
   "execution_count": null,
   "id": "59726b70",
   "metadata": {},
   "outputs": [],
   "source": [
    "accuracy"
   ]
  },
  {
   "cell_type": "code",
   "execution_count": null,
   "id": "a0c8e5fe",
   "metadata": {},
   "outputs": [],
   "source": [
    "cm = confusion_matrix(test[\"late\"], predictions, labels=[True, False])"
   ]
  },
  {
   "cell_type": "code",
   "execution_count": null,
   "id": "9cd94525",
   "metadata": {},
   "outputs": [],
   "source": [
    "cm"
   ]
  },
  {
   "cell_type": "markdown",
   "id": "706ba089",
   "metadata": {},
   "source": [
    "### Export Model"
   ]
  },
  {
   "cell_type": "code",
   "execution_count": null,
   "id": "7ca2d86a",
   "metadata": {},
   "outputs": [],
   "source": [
    "\n",
    "export_name =\"rf_1000_classifier.pkl\"\n",
    "with open(export_name, \"wb\") as file:\n",
    "    pickle.dump(rf_classifier, file)"
   ]
  },
  {
   "cell_type": "markdown",
   "id": "cfaff930",
   "metadata": {},
   "source": [
    "## 2 Model for predicting days late"
   ]
  },
  {
   "cell_type": "code",
   "execution_count": null,
   "id": "d6d0a304-9637-4160-a4b6-68db276fab6a",
   "metadata": {},
   "outputs": [],
   "source": [
    "\n",
    "# Init Random Forest\n",
    "rf = RandomForestRegressor(n_estimators=1000, random_state=1234)\n"
   ]
  },
  {
   "cell_type": "code",
   "execution_count": null,
   "id": "a88a85ce-896b-400a-b5c2-5ea268247b30",
   "metadata": {},
   "outputs": [],
   "source": [
    "\n",
    "# Train model\n",
    "rf.fit(train[features], train[\"days_late\"])\n"
   ]
  },
  {
   "cell_type": "code",
   "execution_count": null,
   "id": "15493c93-15c3-4b61-bce9-a9296cf47ca2",
   "metadata": {},
   "outputs": [],
   "source": [
    "\n",
    "\n",
    "# Predict\n",
    "predictions = rf.predict(test[features])\n"
   ]
  },
  {
   "cell_type": "code",
   "execution_count": null,
   "id": "64b03ba6-6683-4864-886b-792c0fb60900",
   "metadata": {},
   "outputs": [],
   "source": [
    "\n",
    "# Calculate Mean Squared Error\n",
    "mse = mean_squared_error(test[\"days_late\"], predictions)\n",
    "\n",
    "# Calculate Root Mean Squared Error\n",
    "rmse = np.sqrt(mse)\n",
    "print(f\"RMSE: {rmse}\")\n",
    "\n"
   ]
  },
  {
   "cell_type": "code",
   "execution_count": null,
   "id": "95b23c1d",
   "metadata": {},
   "outputs": [],
   "source": [
    "# Mean absolute error\n",
    "mae = mean_absolute_error(test[\"days_late\"], predictions)\n",
    "print(f\"MAE: {mae}\")\n"
   ]
  },
  {
   "cell_type": "markdown",
   "id": "fe2042d0",
   "metadata": {},
   "source": []
  },
  {
   "cell_type": "markdown",
   "id": "6f2f8cd0",
   "metadata": {},
   "source": [
    "### Gradient boosted treess"
   ]
  },
  {
   "cell_type": "code",
   "execution_count": null,
   "id": "c09c7e38",
   "metadata": {},
   "outputs": [],
   "source": [
    "# Test gradient boosted trees\n",
    "gbm = GradientBoostingRegressor(n_estimators=500, random_state=1234)"
   ]
  },
  {
   "cell_type": "code",
   "execution_count": null,
   "id": "40c1c9af",
   "metadata": {},
   "outputs": [],
   "source": [
    "gbm.fit(train[features], train[\"days_late\"])"
   ]
  },
  {
   "cell_type": "code",
   "execution_count": null,
   "id": "345131a5",
   "metadata": {},
   "outputs": [],
   "source": [
    "predictions_gbm = gbm.predict(test[features])"
   ]
  },
  {
   "cell_type": "code",
   "execution_count": null,
   "id": "e323dce3",
   "metadata": {},
   "outputs": [],
   "source": [
    "mse_gbm = mean_squared_error(test[\"days_late\"], predictions_gbm)"
   ]
  },
  {
   "cell_type": "code",
   "execution_count": null,
   "id": "08560e60",
   "metadata": {},
   "outputs": [],
   "source": [
    "rmse_gbm = np.sqrt(mse_gbm)\n",
    "print(f\"RMSE: {rmse_gbm}\")"
   ]
  },
  {
   "cell_type": "code",
   "execution_count": null,
   "id": "ac75b5e4",
   "metadata": {},
   "outputs": [],
   "source": [
    "# Mean absolute error\n",
    "mae_gbm = mean_absolute_error(test[\"days_late\"], predictions_gbm)\n",
    "print(f\"MAE: {mae_gbm}\")\n"
   ]
  },
  {
   "cell_type": "code",
   "execution_count": null,
   "id": "de1e59b7",
   "metadata": {},
   "outputs": [],
   "source": [
    "export_name =\"gbm_500.pkl\"\n",
    "with open(export_name, \"wb\") as file:\n",
    "    pickle.dump(gbm, file)"
   ]
  },
  {
   "cell_type": "markdown",
   "id": "72dca31c",
   "metadata": {},
   "source": []
  }
 ],
 "metadata": {
  "kernelspec": {
   "display_name": "Python 3 (ipykernel)",
   "language": "python",
   "name": "python3"
  },
  "language_info": {
   "codemirror_mode": {
    "name": "ipython",
    "version": 3
   },
   "file_extension": ".py",
   "mimetype": "text/x-python",
   "name": "python",
   "nbconvert_exporter": "python",
   "pygments_lexer": "ipython3",
   "version": "3.11.10"
  }
 },
 "nbformat": 4,
 "nbformat_minor": 5
}
