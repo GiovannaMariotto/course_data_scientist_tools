{
 "cells": [
  {
   "cell_type": "code",
   "execution_count": null,
   "id": "d2596bf8-00bf-4543-b5ec-d04fe44074b5",
   "metadata": {},
   "outputs": [],
   "source": [
    "from sqlalchemy import create_engine\n",
    "import pandas as pd\n",
    "from sklearn.ensemble import RandomForestRegressor, RandomForestClassifier, GradientBoostingRegressor\n",
    "from sklearn.metrics import (\n",
    "    mean_squared_error, mean_absolute_error, confusion_matrix, accuracy_score\n",
    ")\n",
    "import pickle\n",
    "import datetime\n",
    "import numpy as np\n",
    "\n",
    "\n",
    "\n"
   ]
  },
  {
   "cell_type": "code",
   "execution_count": null,
   "id": "1ddd525d-5da2-431b-809a-e18ef4ed4ab6",
   "metadata": {},
   "outputs": [],
   "source": [
    "\n",
    "user = \"erpnext_sql\"\n",
    "password = \"rtp[ps4XRF0_pX\"\n",
    "db = \"_abde597b15b69fc8\"\n",
    "host = \"erpnext.responsible-ai.net\"\n",
    "port = \"3333\""
   ]
  },
  {
   "cell_type": "code",
   "execution_count": 3,
   "id": "79af7632-d883-447b-93ed-090a778ecac4",
   "metadata": {},
   "outputs": [],
   "source": [
    "engine = create_engine(f\"mysql+pymysql://{user}:{password}@{host}:{port}/{db}\")"
   ]
  },
  {
   "cell_type": "code",
   "execution_count": null,
   "id": "bdd00e03-e952-480b-b881-07a2c6d9c6fe",
   "metadata": {},
   "outputs": [],
   "source": [
    "\n",
    "data_sql_full = pd.read_sql(\"\"\"\n",
    "    Select \t\t\n",
    "\t\t\tpo.name, \n",
    "            po.supplier, \n",
    "            po.total_qty,\n",
    "            po.transaction_date as order_date,\n",
    "            po_items.schedule_date,\n",
    "            po_receipt.posting_date as delivered_date\n",
    "    FROM `tabPurchase Order` po\n",
    "    LEFT JOIN `tabPurchase Order Item` po_items\n",
    "    \ton po.name = po_items.parent\n",
    "    LEFT JOIN `tabPurchase Receipt Item` po_receipt_item\n",
    "    \ton po.name = po_receipt_item.purchase_order \n",
    "    LEFT JOIN `tabPurchase Receipt` po_receipt\n",
    "    \ton po_receipt_item.parent = po_receipt.name\n",
    "    \"\"\", engine)\n",
    "\n"
   ]
  },
  {
   "cell_type": "code",
   "execution_count": null,
   "id": "4fbc4ea8-0bff-477c-b128-949df358c093",
   "metadata": {},
   "outputs": [
    {
     "data": {
      "text/plain": [
       "(17181, 6)"
      ]
     },
     "execution_count": 9,
     "metadata": {},
     "output_type": "execute_result"
    }
   ],
   "source": [
    "\n",
    "data_sql_full.shape"
   ]
  },
  {
   "cell_type": "code",
   "execution_count": null,
   "id": "ffd1cc47-76d4-4875-bf11-bad1904dc19c",
   "metadata": {},
   "outputs": [
    {
     "data": {
      "text/html": [
       "<div>\n",
       "<style scoped>\n",
       "    .dataframe tbody tr th:only-of-type {\n",
       "        vertical-align: middle;\n",
       "    }\n",
       "\n",
       "    .dataframe tbody tr th {\n",
       "        vertical-align: top;\n",
       "    }\n",
       "\n",
       "    .dataframe thead th {\n",
       "        text-align: right;\n",
       "    }\n",
       "</style>\n",
       "<table border=\"1\" class=\"dataframe\">\n",
       "  <thead>\n",
       "    <tr style=\"text-align: right;\">\n",
       "      <th></th>\n",
       "      <th>name</th>\n",
       "      <th>supplier</th>\n",
       "      <th>total_qty</th>\n",
       "      <th>transaction_date</th>\n",
       "      <th>schedule_date</th>\n",
       "      <th>posting_date</th>\n",
       "    </tr>\n",
       "  </thead>\n",
       "  <tbody>\n",
       "    <tr>\n",
       "      <th>0</th>\n",
       "      <td>e</td>\n",
       "      <td>Beans Inc.</td>\n",
       "      <td>750.0</td>\n",
       "      <td>2020-06-14</td>\n",
       "      <td>None</td>\n",
       "      <td>None</td>\n",
       "    </tr>\n",
       "    <tr>\n",
       "      <th>1</th>\n",
       "      <td>PUR-ORD-2024-08-00002</td>\n",
       "      <td>Beans Inc.</td>\n",
       "      <td>750.0</td>\n",
       "      <td>2023-04-24</td>\n",
       "      <td>2023-04-29</td>\n",
       "      <td>2023-05-04</td>\n",
       "    </tr>\n",
       "    <tr>\n",
       "      <th>2</th>\n",
       "      <td>PUR-ORD-2024-08-00003</td>\n",
       "      <td>Fair Trade AG</td>\n",
       "      <td>750.0</td>\n",
       "      <td>2024-09-08</td>\n",
       "      <td>2024-09-21</td>\n",
       "      <td>None</td>\n",
       "    </tr>\n",
       "    <tr>\n",
       "      <th>3</th>\n",
       "      <td>PUR-ORD-2024-08-00004</td>\n",
       "      <td>Aromatico</td>\n",
       "      <td>1000.0</td>\n",
       "      <td>2022-10-26</td>\n",
       "      <td>2022-11-10</td>\n",
       "      <td>2022-11-29</td>\n",
       "    </tr>\n",
       "    <tr>\n",
       "      <th>4</th>\n",
       "      <td>PUR-ORD-2024-08-00005</td>\n",
       "      <td>Aromatico</td>\n",
       "      <td>500.0</td>\n",
       "      <td>2022-03-18</td>\n",
       "      <td>2022-04-05</td>\n",
       "      <td>2022-04-24</td>\n",
       "    </tr>\n",
       "  </tbody>\n",
       "</table>\n",
       "</div>"
      ],
      "text/plain": [
       "                    name       supplier  total_qty transaction_date  \\\n",
       "0                      e     Beans Inc.      750.0       2020-06-14   \n",
       "1  PUR-ORD-2024-08-00002     Beans Inc.      750.0       2023-04-24   \n",
       "2  PUR-ORD-2024-08-00003  Fair Trade AG      750.0       2024-09-08   \n",
       "3  PUR-ORD-2024-08-00004      Aromatico     1000.0       2022-10-26   \n",
       "4  PUR-ORD-2024-08-00005      Aromatico      500.0       2022-03-18   \n",
       "\n",
       "  schedule_date posting_date  \n",
       "0          None         None  \n",
       "1    2023-04-29   2023-05-04  \n",
       "2    2024-09-21         None  \n",
       "3    2022-11-10   2022-11-29  \n",
       "4    2022-04-05   2022-04-24  "
      ]
     },
     "execution_count": 10,
     "metadata": {},
     "output_type": "execute_result"
    }
   ],
   "source": [
    "\n",
    "data_sql_full.head()"
   ]
  },
  {
   "cell_type": "code",
   "execution_count": null,
   "id": "53c36ef9-ef09-4304-991d-be3cd1b487b8",
   "metadata": {},
   "outputs": [],
   "source": []
  }
 ],
 "metadata": {
  "kernelspec": {
   "display_name": "Python 3 (ipykernel)",
   "language": "python",
   "name": "python3"
  },
  "language_info": {
   "codemirror_mode": {
    "name": "ipython",
    "version": 3
   },
   "file_extension": ".py",
   "mimetype": "text/x-python",
   "name": "python",
   "nbconvert_exporter": "python",
   "pygments_lexer": "ipython3",
   "version": "3.11.11"
  }
 },
 "nbformat": 4,
 "nbformat_minor": 5
}
