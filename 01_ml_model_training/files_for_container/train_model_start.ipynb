{
 "cells": [
  {
   "cell_type": "code",
   "execution_count": null,
   "id": "d2596bf8-00bf-4543-b5ec-d04fe44074b5",
   "metadata": {},
   "outputs": [],
   "source": [
    "from sqlalchemy import create_engine\n",
    "import pandas as pd\n"
   ]
  },
  {
   "cell_type": "code",
   "execution_count": null,
   "id": "1ddd525d-5da2-431b-809a-e18ef4ed4ab6",
   "metadata": {},
   "outputs": [],
   "source": [
    "user = \"erpnext_sql\"\n",
    "password = \"\"\n",
    "db = \"\"\n",
    "host = \"\"\n",
    "port = \"3333\""
   ]
  },
  {
   "cell_type": "code",
   "execution_count": 13,
   "id": "79af7632-d883-447b-93ed-090a778ecac4",
   "metadata": {},
   "outputs": [],
   "source": [
    "engine = create_engine(f\"mysql+pymysql://{user}:{password}@{host}:{port}/{db}\")"
   ]
  },
  {
   "cell_type": "code",
   "execution_count": 14,
   "id": "bdd00e03-e952-480b-b881-07a2c6d9c6fe",
   "metadata": {},
   "outputs": [],
   "source": [
    "\n",
    "purchase_orders = pd.read_sql(\"\"\"\n",
    "    Select name, \n",
    "            supplier, \n",
    "            schedule_date,                 \n",
    "            total_qty, \n",
    "            transaction_date, \n",
    "            set_warehouse\n",
    "    FROM `tabPurchase Order`\n",
    "    \"\"\", engine)\n",
    "\n"
   ]
  },
  {
   "cell_type": "code",
   "execution_count": 15,
   "id": "4fbc4ea8-0bff-477c-b128-949df358c093",
   "metadata": {},
   "outputs": [
    {
     "data": {
      "text/plain": [
       "(17181, 6)"
      ]
     },
     "execution_count": 15,
     "metadata": {},
     "output_type": "execute_result"
    }
   ],
   "source": [
    "purchase_orders.shape"
   ]
  },
  {
   "cell_type": "code",
   "execution_count": null,
   "id": "ffd1cc47-76d4-4875-bf11-bad1904dc19c",
   "metadata": {},
   "outputs": [],
   "source": []
  }
 ],
 "metadata": {
  "kernelspec": {
   "display_name": "Python 3 (ipykernel)",
   "language": "python",
   "name": "python3"
  },
  "language_info": {
   "codemirror_mode": {
    "name": "ipython",
    "version": 3
   },
   "file_extension": ".py",
   "mimetype": "text/x-python",
   "name": "python",
   "nbconvert_exporter": "python",
   "pygments_lexer": "ipython3",
   "version": "3.11.10"
  }
 },
 "nbformat": 4,
 "nbformat_minor": 5
}
